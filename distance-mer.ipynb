import pandas as pd
import matplotlib.pyplot as plt
import numpy as np
from math import radians, cos, sin, asin, sqrt
import sklearn


df1 = pd.read_excel('C:/Users/mouna/Desktop/PYTHON/webflask/PFEFiles/DataTesttechniquePFE8.xlsx')
df2 = pd.read_csv('C:/Users/mouna/Desktop/PYTHON/webflask/PFEFiles/mer-positions.csv')

lon2 = df1['longitude']; 
lat2 =df1['latitude']; 

lon1 = df2['longitude']; 
lat1 =df2['latitude'];

def haversine_vectorize(lon1, lat1, lon2, lat2):

    lon1, lat1, lon2, lat2 = map(np.radians, [lon1, lat1, lon2, lat2])

    newlon = lon2 - lon1
    newlat = lat2 - lat1

    haver_formula = np.sin(newlat/2.0)**2 + np.cos(lat1) * np.cos(lat2) * np.sin(newlon/2.0)**2

    dist = 2 * np.arcsin(np.sqrt(haver_formula ))
    km = 6367 * dist #6367 for distance in KM for miles use 3958
    return km


haversine_vectorize(lon1 = df2['longitude'],lat1 =df2['latitude'],lon2 = df1['longitude'],
                   lat2 =df1['latitude'])

df1['distance_mer'] = haversine_vectorize(lon1 = df2['longitude'],lat1 =df2['latitude'],lon2 = df1['longitude'],
                   lat2 =df1['latitude'])

X=df1.iloc[:, 1:6].values
Y=df1.iloc[:, 7].values



from sklearn.preprocessing import OneHotEncoder,LabelEncoder

#spliting the data : test set and train set
from sklearn.model_selection import train_test_split
xtrain,xtest,ytrain,ytest=train_test_split(X,Y,test_size=0.5,random_state=0)

#feature scaling ,IN muliple linear regression libraries take care of feature scaling

#model creation : linear regression
from sklearn.linear_model import LinearRegression
regressior=LinearRegression()
regressior.fit(xtrain, ytrain)

#predcution based on the test
ypred=regressior.predict(xtest)
from sklearn.model_selection import cross_val_score
accuracies=cross_val_score(estimator=regressior, X=xtrain,y=ytrain,cv=10)
mean_accuracy=accuracies.mean()

df1
